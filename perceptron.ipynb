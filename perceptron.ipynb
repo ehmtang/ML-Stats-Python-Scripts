{
 "cells": [
  {
   "cell_type": "code",
   "execution_count": null,
   "metadata": {},
   "outputs": [],
   "source": [
    "\"\"\"Reference Python Simplified https://www.youtube.com/watch?v=-KLnurhX-Pg\"\"\"\n",
    "\n",
    "# A Perceptron is an algorithm for supervised learning of binary classifiers. \n",
    "# This algorithm enables neurons to learn and processes elements in the training set one at a time\n",
    "\n",
    "x_input = [0.1, 0.5, 0.2] # ie my data\n",
    "w_weights = [0.4, 0.3, 0.6] # these are assigned by the user,\n",
    "bias = 0.5 # also known as the threshold\n",
    "\n",
    "# Activation function to allocate is True or is False\n",
    "# This case, uses a step function to determine the output \n",
    "def step(weighted_sum):\n",
    "    if weighted_sum > bias:\n",
    "        return 1\n",
    "    else:\n",
    "        return 0\n",
    "\n",
    "# Calculates the product of input data and its weight\n",
    "# Returns the output from the step function\n",
    "# In this case, is it greater or less than the bias\n",
    "def perceptron():\n",
    "    weighted_sum = 0\n",
    "    for x, w in zip(x_input, w_weights):\n",
    "        weighted_sum += x*w\n",
    "        print(weighted_sum)\n",
    "    return step(weighted_sum)\n",
    "\n",
    "output = perceptron()\n",
    "print(f\"output: {output}\")"
   ]
  }
 ],
 "metadata": {
  "kernelspec": {
   "display_name": "base",
   "language": "python",
   "name": "python3"
  },
  "language_info": {
   "name": "python",
   "version": "3.9.15 (main, Nov 24 2022, 14:39:17) [MSC v.1916 64 bit (AMD64)]"
  },
  "orig_nbformat": 4,
  "vscode": {
   "interpreter": {
    "hash": "8eb51273876fec314246d1a66a402c1792b8c07f9a56b438c715b6f08c2cf829"
   }
  }
 },
 "nbformat": 4,
 "nbformat_minor": 2
}
